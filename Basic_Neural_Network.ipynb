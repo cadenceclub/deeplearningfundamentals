{
  "nbformat": 4,
  "nbformat_minor": 0,
  "metadata": {
    "colab": {
      "provenance": [],
      "authorship_tag": "ABX9TyNkKUS/0uwKMB9aZQpfJLEq",
      "include_colab_link": true
    },
    "kernelspec": {
      "name": "python3",
      "display_name": "Python 3"
    },
    "language_info": {
      "name": "python"
    }
  },
  "cells": [
    {
      "cell_type": "markdown",
      "metadata": {
        "id": "view-in-github",
        "colab_type": "text"
      },
      "source": [
        "<a href=\"https://colab.research.google.com/github/cadenceclub/deeplearningfundamentals/blob/main/Basic_Neural_Network.ipynb\" target=\"_parent\"><img src=\"https://colab.research.google.com/assets/colab-badge.svg\" alt=\"Open In Colab\"/></a>"
      ]
    },
    {
      "cell_type": "markdown",
      "source": [
        "### Import libraries"
      ],
      "metadata": {
        "id": "9KB2xUtPJ-5j"
      }
    },
    {
      "cell_type": "code",
      "execution_count": 1,
      "metadata": {
        "id": "k-NFH1ztb876"
      },
      "outputs": [],
      "source": [
        "import numpy as np\n",
        "import matplotlib.pyplot as plt\n",
        "import seaborn as sns\n",
        "from typing import List"
      ]
    },
    {
      "cell_type": "markdown",
      "source": [
        "### Define a Neural Network class"
      ],
      "metadata": {
        "id": "bnrNpmu2KHUD"
      }
    },
    {
      "cell_type": "code",
      "source": [
        "class Network:\n",
        "  def __init__(self, sizes: List) -> None:\n",
        "    self.n_layers = len(sizes)\n",
        "    self.weights = [np.random.randn(y,x) for x, y in zip(sizes[1:], sizes[:-1])]\n",
        "    self.biases = [np.random.randn(1,y) for y in sizes[1:]]\n",
        "    print([x.shape for x in self.weights])\n",
        "    print([x.shape for x in self.biases])\n",
        "  def feedforward(self, a:np.array) -> np.array:\n",
        "    for w, b in zip(self.weights, self.biases):\n",
        "      a = np.dot(a, w) + b\n",
        "    return a"
      ],
      "metadata": {
        "id": "j4MXtf6AKKsM"
      },
      "execution_count": 6,
      "outputs": []
    },
    {
      "cell_type": "code",
      "source": [
        "n = Network([784,100,10])"
      ],
      "metadata": {
        "id": "B4tvgwcUK1zk",
        "outputId": "b6972ff7-fd22-4b5d-db33-5e2242cbef53",
        "colab": {
          "base_uri": "https://localhost:8080/"
        }
      },
      "execution_count": 7,
      "outputs": [
        {
          "output_type": "stream",
          "name": "stdout",
          "text": [
            "[(784, 100), (100, 10)]\n",
            "[(1, 100), (1, 10)]\n"
          ]
        }
      ]
    },
    {
      "cell_type": "code",
      "source": [
        "a = np.random.randn(1, 784)\n",
        "print(n.feedforward(a))"
      ],
      "metadata": {
        "id": "6GFEXx1xLdt8",
        "outputId": "088d0c82-676b-42ef-f905-f06e3289f36e",
        "colab": {
          "base_uri": "https://localhost:8080/"
        }
      },
      "execution_count": 9,
      "outputs": [
        {
          "output_type": "stream",
          "name": "stdout",
          "text": [
            "[[ 183.01946182 -363.97580565   78.00696709  231.40075989   -9.93917104\n",
            "   -38.63171345 -177.27528389  168.41581416  275.87626357 -475.71300324]]\n"
          ]
        }
      ]
    }
  ]
}